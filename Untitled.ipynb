{
 "cells": [
  {
   "cell_type": "code",
   "execution_count": 3,
   "metadata": {},
   "outputs": [
    {
     "name": "stdout",
     "output_type": "stream",
     "text": [
      "Collecting python-whois\n",
      "  Downloading https://files.pythonhosted.org/packages/4b/c6/85268f0cef6a1c7e466140437c8fe49eb12c203d9a31be6d2976a29c7266/python-whois-0.7.3.tar.gz (91kB)\n",
      "Requirement already satisfied: future in c:\\users\\seraf\\anaconda3\\lib\\site-packages (from python-whois) (0.17.1)\n",
      "Building wheels for collected packages: python-whois\n",
      "  Building wheel for python-whois (setup.py): started\n",
      "  Building wheel for python-whois (setup.py): finished with status 'done'\n",
      "  Created wheel for python-whois: filename=python_whois-0.7.3-cp37-none-any.whl size=87708 sha256=85db6a8f3d7225a9d74fb7d5a94b689749831e883f4c0f8fe6ce1c755b5286da\n",
      "  Stored in directory: C:\\Users\\seraf\\AppData\\Local\\pip\\Cache\\wheels\\12\\3c\\9b\\901b7deea1fa960f9abfd84df82414dff215c4a1d6869bcea2\n",
      "Successfully built python-whois\n",
      "Installing collected packages: python-whois\n",
      "Successfully installed python-whois-0.7.3\n",
      "Requirement already satisfied: requests in c:\\users\\seraf\\anaconda3\\lib\\site-packages (2.22.0)\n",
      "Requirement already satisfied: urllib3!=1.25.0,!=1.25.1,<1.26,>=1.21.1 in c:\\users\\seraf\\anaconda3\\lib\\site-packages (from requests) (1.24.2)\n",
      "Requirement already satisfied: idna<2.9,>=2.5 in c:\\users\\seraf\\anaconda3\\lib\\site-packages (from requests) (2.8)\n",
      "Requirement already satisfied: chardet<3.1.0,>=3.0.2 in c:\\users\\seraf\\anaconda3\\lib\\site-packages (from requests) (3.0.4)\n",
      "Requirement already satisfied: certifi>=2017.4.17 in c:\\users\\seraf\\anaconda3\\lib\\site-packages (from requests) (2019.9.11)\n",
      "Requirement already satisfied: beautifulsoup4 in c:\\users\\seraf\\anaconda3\\lib\\site-packages (4.8.0)\n",
      "Requirement already satisfied: soupsieve>=1.2 in c:\\users\\seraf\\anaconda3\\lib\\site-packages (from beautifulsoup4) (1.9.3)\n"
     ]
    }
   ],
   "source": [
    "#!pip install python-whois\n",
    "#!pip install requests\n",
    "#!pip install beautifulsoup4"
   ]
  },
  {
   "cell_type": "code",
   "execution_count": 53,
   "metadata": {},
   "outputs": [],
   "source": [
    "import whois\n",
    "import requests\n",
    "\n",
    "from bs4 import BeautifulSoup"
   ]
  },
  {
   "cell_type": "code",
   "execution_count": 134,
   "metadata": {},
   "outputs": [],
   "source": [
    "class linea(object):\n",
    "    \n",
    "    def __init__(self, equipoAnf, equipoVis, resultadoAnf, resultadoVis, fecha):\n",
    "        self.equipoAnf = equipoAnf\n",
    "        self.equipoVis = equipoVis \n",
    "        self.resultadoAnf = resultadoAnf \n",
    "        self.resultadoVis = resultadoVis\n",
    "        self.fecha = fecha\n",
    "        #Ciudad\n",
    "\n",
    "    @property\n",
    "    def equipoAnf(self):\n",
    "        return self._equipoAnf\n",
    "    \n",
    "    @equipoAnf.setter\n",
    "    def equipoAnf(self, value):\n",
    "        self._equipoAnf = value\n",
    "    \n",
    "    @property\n",
    "    def equipoVis(self):\n",
    "        return self._equipoVis\n",
    "    \n",
    "    @equipoVis.setter\n",
    "    def equipoVis(self, value):\n",
    "        self._equipoVis = value\n",
    "    \n",
    "    @property\n",
    "    def resultadoAnf(self):\n",
    "        return self._resultadoAnf\n",
    "    \n",
    "    @resultadoAnf.setter\n",
    "    def resultadoAnf(self, value):\n",
    "        self._resultadoAnf = value    \n",
    "\n",
    "    @property\n",
    "    def resultadoVis(self):\n",
    "        return self._resultadoVis\n",
    "\n",
    "    @resultadoVis.setter\n",
    "    def resultadoVis(self, value):\n",
    "        self._resultadoVis = value    \n",
    "\n",
    "    @property\n",
    "    def fecha(self):\n",
    "        return self._fecha\n",
    "\n",
    "    @fecha.setter\n",
    "    def fecha(self, value):\n",
    "        self._fecha = value    \n"
   ]
  },
  {
   "cell_type": "code",
   "execution_count": 5,
   "metadata": {},
   "outputs": [
    {
     "name": "stdout",
     "output_type": "stream",
     "text": [
      "{\n",
      "  \"domain_name\": [\n",
      "    \"BDFUTBOL.COM\",\n",
      "    \"bdfutbol.com\"\n",
      "  ],\n",
      "  \"registrar\": \"1&1 IONOS SE\",\n",
      "  \"whois_server\": \"whois.ionos.com\",\n",
      "  \"referral_url\": null,\n",
      "  \"updated_date\": [\n",
      "    \"2020-01-22 08:30:25\",\n",
      "    \"2017-02-12 10:43:58\"\n",
      "  ],\n",
      "  \"creation_date\": \"2008-01-21 16:08:14\",\n",
      "  \"expiration_date\": \"2021-01-21 16:08:14\",\n",
      "  \"name_servers\": [\n",
      "    \"NS1026.UI-DNS.BIZ\",\n",
      "    \"NS1047.UI-DNS.DE\",\n",
      "    \"NS1054.UI-DNS.ORG\",\n",
      "    \"NS1060.UI-DNS.COM\"\n",
      "  ],\n",
      "  \"status\": [\n",
      "    \"clientTransferProhibited https://icann.org/epp#clientTransferProhibited\",\n",
      "    \"clientTransferProhibited https://www.icann.org/epp#clientTransferProhibited\",\n",
      "    \"autoRenewPeriod https://www.icann.org/epp#autoRenewPeriod\"\n",
      "  ],\n",
      "  \"emails\": [\n",
      "    \"abuse@ionos.com\",\n",
      "    \"dataprivacyprotected@1und1.de\"\n",
      "  ],\n",
      "  \"dnssec\": [\n",
      "    \"unsigned\",\n",
      "    \"Unsigned\"\n",
      "  ],\n",
      "  \"name\": \"REDACTED FOR PRIVACY\",\n",
      "  \"org\": null,\n",
      "  \"address\": \"REDACTED FOR PRIVACY\",\n",
      "  \"city\": \"REDACTED FOR PRIVACY\",\n",
      "  \"state\": \"GI\",\n",
      "  \"zipcode\": \"REDACTED FOR PRIVACY\",\n",
      "  \"country\": \"ES\"\n",
      "}\n"
     ]
    }
   ],
   "source": [
    "print(whois.whois('https://www.bdfutbol.com/'))"
   ]
  },
  {
   "cell_type": "code",
   "execution_count": 6,
   "metadata": {},
   "outputs": [],
   "source": [
    "main = 'https://www.bdfutbol.com/es/'\n",
    "tt20    = 't/t20'\n",
    "html = '.html'\n",
    "anio1 = 20\n",
    "anio2 = 21\n",
    "guion = '-'\n",
    "\n",
    "url = main + tt20 + str(anio1) + guion + str(anio2) + html\n",
    "\n",
    "page = requests.get(url)"
   ]
  },
  {
   "cell_type": "code",
   "execution_count": 7,
   "metadata": {},
   "outputs": [],
   "source": [
    "soup = BeautifulSoup(page.content)\n",
    "jornadas = soup.find(id=\"jornada_classi\")\n",
    "links = jornadas.find_all('a')"
   ]
  },
  {
   "cell_type": "code",
   "execution_count": 8,
   "metadata": {},
   "outputs": [],
   "source": [
    "href = []\n",
    "\n",
    "#Se recorre la lista de etiquetas a para coger unicamente la href\n",
    "for link in links:\n",
    "    href.append(link.get('href'))\n",
    "    \n",
    "#Se eliminan duplicados\n",
    "href_set = set(href)"
   ]
  },
  {
   "cell_type": "code",
   "execution_count": 9,
   "metadata": {},
   "outputs": [
    {
     "data": {
      "text/plain": [
       "['https://www.bdfutbol.com/es/p/p.php?id=30147',\n",
       " 'https://www.bdfutbol.com/es/p/p.php?id=30151',\n",
       " 'https://www.bdfutbol.com/es/p/p.php?id=30120',\n",
       " 'https://www.bdfutbol.com/es/p/p.php?id=30130',\n",
       " 'https://www.bdfutbol.com/es/p/p.php?id=30159',\n",
       " 'https://www.bdfutbol.com/es/p/p.php?id=30137',\n",
       " 'https://www.bdfutbol.com/es/p/p.php?id=30158',\n",
       " 'https://www.bdfutbol.com/es/p/p.php?id=30153',\n",
       " 'https://www.bdfutbol.com/es/p/p.php?id=30148',\n",
       " 'https://www.bdfutbol.com/es/p/p.php?id=30128',\n",
       " 'https://www.bdfutbol.com/es/p/p.php?id=30152',\n",
       " 'https://www.bdfutbol.com/es/p/p.php?id=30117',\n",
       " 'https://www.bdfutbol.com/es/p/p.php?id=30136',\n",
       " 'https://www.bdfutbol.com/es/p/p.php?id=30131',\n",
       " 'https://www.bdfutbol.com/es/p/p.php?id=30154',\n",
       " 'https://www.bdfutbol.com/es/p/p.php?id=30129',\n",
       " 'https://www.bdfutbol.com/es/p/p.php?id=30108',\n",
       " 'https://www.bdfutbol.com/es/p/p.php?id=30143',\n",
       " 'https://www.bdfutbol.com/es/p/p.php?id=30101',\n",
       " 'https://www.bdfutbol.com/es/p/p.php?id=30146',\n",
       " 'https://www.bdfutbol.com/es/p/p.php?id=30155',\n",
       " 'https://www.bdfutbol.com/es/p/p.php?id=30106',\n",
       " 'https://www.bdfutbol.com/es/p/p.php?id=30149',\n",
       " 'https://www.bdfutbol.com/es/p/p.php?id=30126',\n",
       " 'https://www.bdfutbol.com/es/p/p.php?id=30157',\n",
       " 'https://www.bdfutbol.com/es/p/p.php?id=30127',\n",
       " 'https://www.bdfutbol.com/es/p/p.php?id=30107',\n",
       " 'https://www.bdfutbol.com/es/p/p.php?id=30102',\n",
       " 'https://www.bdfutbol.com/es/p/p.php?id=30123',\n",
       " 'https://www.bdfutbol.com/es/p/p.php?id=30139',\n",
       " 'https://www.bdfutbol.com/es/p/p.php?id=30140',\n",
       " 'https://www.bdfutbol.com/es/p/p.php?id=30122',\n",
       " 'https://www.bdfutbol.com/es/p/p.php?id=30150',\n",
       " 'https://www.bdfutbol.com/es/p/p.php?id=30141',\n",
       " 'https://www.bdfutbol.com/es/p/p.php?id=30132',\n",
       " 'https://www.bdfutbol.com/es/p/p.php?id=30144',\n",
       " 'https://www.bdfutbol.com/es/p/p.php?id=30138',\n",
       " 'https://www.bdfutbol.com/es/p/p.php?id=30135',\n",
       " 'https://www.bdfutbol.com/es/p/p.php?id=30156',\n",
       " 'https://www.bdfutbol.com/es/p/p.php?id=30125',\n",
       " 'https://www.bdfutbol.com/es/p/p.php?id=30145',\n",
       " 'https://www.bdfutbol.com/es/p/p.php?id=30112',\n",
       " 'https://www.bdfutbol.com/es/p/p.php?id=30105',\n",
       " 'https://www.bdfutbol.com/es/p/p.php?id=30124',\n",
       " 'https://www.bdfutbol.com/es/p/p.php?id=30133',\n",
       " 'https://www.bdfutbol.com/es/p/p.php?id=30100',\n",
       " 'https://www.bdfutbol.com/es/p/p.php?id=30110',\n",
       " 'https://www.bdfutbol.com/es/p/p.php?id=30111',\n",
       " 'https://www.bdfutbol.com/es/p/p.php?id=30121',\n",
       " 'https://www.bdfutbol.com/es/p/p.php?id=30142',\n",
       " 'https://www.bdfutbol.com/es/p/p.php?id=30118',\n",
       " 'https://www.bdfutbol.com/es/p/p.php?id=30115',\n",
       " 'https://www.bdfutbol.com/es/p/p.php?id=30116']"
      ]
     },
     "execution_count": 9,
     "metadata": {},
     "output_type": "execute_result"
    }
   ],
   "source": [
    "href_set = list(map(lambda x: x.replace(\"../\", main), href_set))\n",
    "href_set"
   ]
  },
  {
   "cell_type": "code",
   "execution_count": 135,
   "metadata": {},
   "outputs": [],
   "source": [
    "import time\n",
    "\n",
    "list_lineas=[]\n",
    "\n",
    "for link in href_set:\n",
    "    \n",
    "    t0 = time.time()\n",
    "    \n",
    "    partido = requests.get(link)\n",
    "    p_soup = BeautifulSoup(partido.content)\n",
    "    \n",
    "    # estimación del tiempo de respuesta en segundos\n",
    "    response_delay = time.time() - t0\n",
    "    # espera de 10x, con respecto al tiempo de respuesta\n",
    "    time.sleep(10 * response_delay)\n",
    "\n",
    "    \n",
    "    Lista = p_soup.title.string.split(\"-\")\n",
    "    Equipo1 = Lista[0].strip()\n",
    "    Equipo2 = Lista[1].split(\"(\")[0].strip()\n",
    "    Resul1 = Lista[1].split(\"(\")[1].strip()\n",
    "    Resul2 = Lista[2].split(\")\")[0].strip()\n",
    "    Fecha = Lista[2].split(\")\")[1].strip()\n",
    "    \n",
    "    list_lineas.append(linea(Equipo1, Equipo2, Resul1, Resul2, Fecha))"
   ]
  },
  {
   "cell_type": "code",
   "execution_count": 136,
   "metadata": {},
   "outputs": [
    {
     "name": "stdout",
     "output_type": "stream",
     "text": [
      "Data has been loaded successfully !\n"
     ]
    }
   ],
   "source": [
    "import csv\n",
    "filename = 'Partidos.csv'\n",
    "\n",
    "try:\n",
    "    with open(filename, 'w') as f:\n",
    "        writer = csv.writer(f)\n",
    "        for linea in list_lineas:\n",
    "            writer.writerow([linea.equipoAnf, linea.equipoVis, linea.resultadoAnf, linea.resultadoVis, linea.fecha])\n",
    "except BaseException as e:\n",
    "    print('BaseException:', filename)\n",
    "else:\n",
    "    print('Data has been loaded successfully !')"
   ]
  },
  {
   "cell_type": "code",
   "execution_count": 137,
   "metadata": {},
   "outputs": [
    {
     "data": {
      "text/plain": [
       "'Levante'"
      ]
     },
     "execution_count": 137,
     "metadata": {},
     "output_type": "execute_result"
    }
   ],
   "source": [
    "list_lineas[1].equipoVis"
   ]
  }
 ],
 "metadata": {
  "kernelspec": {
   "display_name": "Python 3",
   "language": "python",
   "name": "python3"
  },
  "language_info": {
   "codemirror_mode": {
    "name": "ipython",
    "version": 3
   },
   "file_extension": ".py",
   "mimetype": "text/x-python",
   "name": "python",
   "nbconvert_exporter": "python",
   "pygments_lexer": "ipython3",
   "version": "3.8.3"
  }
 },
 "nbformat": 4,
 "nbformat_minor": 4
}
