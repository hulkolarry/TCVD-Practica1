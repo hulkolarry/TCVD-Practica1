{
 "cells": [
  {
   "cell_type": "code",
   "execution_count": null,
   "metadata": {},
   "outputs": [],
   "source": [
    "import pandas as pd"
   ]
  },
  {
   "cell_type": "code",
   "execution_count": null,
   "metadata": {},
   "outputs": [],
   "source": [
    "cols = [\"EquipoAnf\", \"EquipoVis\", \"ResulAnf\", \"ResulVis\", \"Fecha\",\"Estadio\", \"Ciudad\", \"Arbitro\"]\n",
    "dsFutbol = pd.read_csv(\"Partidos.csv\", sep=',', header=None, names=cols)\n",
    "dsFutbol"
   ]
  },
  {
   "cell_type": "code",
   "execution_count": null,
   "metadata": {},
   "outputs": [],
   "source": [
    "dsFutbol['Ciudad'][dsFutbol['EquipoAnf'] == 'Eibar'] = 'Eibar'\n",
    "dsFutbol.head()"
   ]
  },
  {
   "cell_type": "code",
   "execution_count": null,
   "metadata": {},
   "outputs": [],
   "source": [
    "dsFutbol[dsFutbol['Ciudad'] == 'n/d']"
   ]
  },
  {
   "cell_type": "code",
   "execution_count": null,
   "metadata": {},
   "outputs": [],
   "source": [
    "dsFutbol['Ciudad'][dsFutbol['EquipoAnf'] == 'Xerez'] = 'Jerez de la Frontera'\n",
    "dsFutbol[dsFutbol['Ciudad'] == 'Jerez de la Frontera']"
   ]
  },
  {
   "cell_type": "code",
   "execution_count": null,
   "metadata": {},
   "outputs": [],
   "source": [
    "#Se carga el dataset de municipios\n",
    "dsMunicipios = pd.read_excel('11codmun.xls', skiprows=1)\n",
    "dsMunicipios"
   ]
  },
  {
   "cell_type": "code",
   "execution_count": null,
   "metadata": {},
   "outputs": [],
   "source": [
    "pd.merge(dsFutbol, dsMunicipios, left_on=\"Ciudad\", right_on=\"NOMBRE\", how='left')"
   ]
  }
 ],
 "metadata": {
  "kernelspec": {
   "display_name": "Python 3",
   "language": "python",
   "name": "python3"
  },
  "language_info": {
   "codemirror_mode": {
    "name": "ipython",
    "version": 3
   },
   "file_extension": ".py",
   "mimetype": "text/x-python",
   "name": "python",
   "nbconvert_exporter": "python",
   "pygments_lexer": "ipython3",
   "version": "3.7.4"
  }
 },
 "nbformat": 4,
 "nbformat_minor": 2
}
